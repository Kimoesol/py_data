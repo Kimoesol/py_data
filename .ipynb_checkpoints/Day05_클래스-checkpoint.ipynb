{
 "cells": [
  {
   "cell_type": "code",
   "execution_count": 37,
   "metadata": {},
   "outputs": [],
   "source": [
    "class Enemy:\n",
    "    def __init__(self):\n",
    "        self.x = 10\n",
    "        self.y = 20\n",
    "        \n",
    "    def display(self, *name): # 가변 길이\n",
    "        print(self.x, self.y)\n",
    "        \n",
    "\n",
    "e1 = Enemy() # self = e1\n",
    "e2 = Enemy()\n",
    "e3 = Enemy()"
   ]
  },
  {
   "cell_type": "code",
   "execution_count": 38,
   "metadata": {},
   "outputs": [
    {
     "name": "stdout",
     "output_type": "stream",
     "text": [
      "10 20\n"
     ]
    }
   ],
   "source": [
    "e1.display()"
   ]
  },
  {
   "cell_type": "code",
   "execution_count": 74,
   "metadata": {},
   "outputs": [],
   "source": [
    "class Student:\n",
    "    def __init__(self,h,name,k,e,m): # 속성 정의와 초기화를 한꺼번에 한다\n",
    "        self.haknum = h\n",
    "        self.sname = name\n",
    "        self.kor = k\n",
    "        self.eng = e\n",
    "        self.math = m\n",
    "        self.total = 0\n",
    "        \n",
    "    def add(self):\n",
    "        self.total = self.kor + self.eng + self.math\n",
    "#         return self.total\n",
    "    \n",
    "    def display(self):\n",
    "        self.add()\n",
    "        print(self.sname, \":\", self.total)"
   ]
  },
  {
   "cell_type": "code",
   "execution_count": 75,
   "metadata": {},
   "outputs": [
    {
     "name": "stdout",
     "output_type": "stream",
     "text": [
      "홍길동 : 115\n",
      "이길동 : 250\n"
     ]
    }
   ],
   "source": [
    "s1 = Student(h=1,name=\"홍길동\",k=25,e=34,m=56)\n",
    "s1.display()\n",
    "\n",
    "s2 = Student(h=2,name=\"이길동\",k=75,e=85,m=90)\n",
    "s2.display()"
   ]
  },
  {
   "cell_type": "code",
   "execution_count": 76,
   "metadata": {},
   "outputs": [],
   "source": [
    "class FStudent(Student):\n",
    "    pass"
   ]
  },
  {
   "cell_type": "code",
   "execution_count": 77,
   "metadata": {},
   "outputs": [
    {
     "name": "stdout",
     "output_type": "stream",
     "text": [
      ">>>> 총점: 115\n"
     ]
    }
   ],
   "source": [
    "class FStudent(Student):\n",
    "    \n",
    "    def display(self):\n",
    "        self.add()\n",
    "        print(\">>>> 총점:\", self.total)\n",
    "\n",
    "fs = FStudent(h=1, name=\"홍길동\", k=25, e=34, m=56)\n",
    "fs.display()"
   ]
  },
  {
   "cell_type": "code",
   "execution_count": 78,
   "metadata": {},
   "outputs": [
    {
     "name": "stdout",
     "output_type": "stream",
     "text": [
      "7\n"
     ]
    }
   ],
   "source": [
    "import mod1\n",
    "print(mod1.add(3,4))"
   ]
  },
  {
   "cell_type": "code",
   "execution_count": 83,
   "metadata": {},
   "outputs": [
    {
     "data": {
      "text/plain": [
       "300"
      ]
     },
     "execution_count": 83,
     "metadata": {},
     "output_type": "execute_result"
    }
   ],
   "source": [
    "from mod1 import *\n",
    "add(100,200)"
   ]
  }
 ],
 "metadata": {
  "kernelspec": {
   "display_name": "Python 3",
   "language": "python",
   "name": "python3"
  },
  "language_info": {
   "codemirror_mode": {
    "name": "ipython",
    "version": 3
   },
   "file_extension": ".py",
   "mimetype": "text/x-python",
   "name": "python",
   "nbconvert_exporter": "python",
   "pygments_lexer": "ipython3",
   "version": "3.7.4"
  }
 },
 "nbformat": 4,
 "nbformat_minor": 2
}
