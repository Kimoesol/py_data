{
 "cells": [
  {
   "cell_type": "code",
   "execution_count": 2,
   "metadata": {},
   "outputs": [],
   "source": [
    "from sklearn import svm, metrics\n",
    "import glob, os.path, re, json"
   ]
  },
  {
   "cell_type": "code",
   "execution_count": 3,
   "metadata": {
    "scrolled": true
   },
   "outputs": [],
   "source": [
    "def check_freq(fname):    \n",
    "    \n",
    "    # 파일을 읽어\n",
    "    # 음절 계산\n",
    "    with open(fname, \"r\", encoding=\"utf-8\") as f:\n",
    "        text = f.read()\n",
    "    text = text.lower()\n",
    "    \n",
    "    # 0 ~ 26까지 모두 0으로 세팅한 배열을 만듬\n",
    "    cnt = [0 for n in range(0,26)]\n",
    "    \n",
    "    # 문자를 아스키 코드로 바꾼 이유: 알파벳을 아스키 코드로 바꿔서 a값을 빼주면 위에 만든 배열의 인덱스값이 나옴\n",
    "    code_a = ord(\"a\") # 'a' = 97\n",
    "    code_z = ord(\"z\") # 'z' = 122\n",
    "    \n",
    "    for ch in text:\n",
    "        n = ord(ch) # n - 97\n",
    "        if code_a <= n <= code_z:\n",
    "            cnt[n - code_a] += 1\n",
    "    \n",
    "    # 정규화\n",
    "    total = sum(cnt)\n",
    "    freq = list(map(lambda n: n / total, cnt))\n",
    "    \n",
    "    # 파일명 뽑아내기 (y값 추출하기 언어타입 찾아내는 것임)\n",
    "    name = os.path.basename(fname)\n",
    "    lang = re.match(r'^[a-z]{2,}', name).group()\n",
    "    return freq, lang\n",
    "\n",
    "def load_files(path):\n",
    "    freqs = []\n",
    "    labels = []\n",
    "    file_list = glob.glob(path)\n",
    "    for fname in file_list:\n",
    "        r = check_freq(fname)\n",
    "        freqs.append(r[0]) # [0.2233343]\n",
    "        labels.append(r[1]) # 'en'\n",
    "    return {\"freqs\":freqs, \"labels\":labels}\n",
    "\n",
    "############### main ###############\n",
    "data = load_files('./lang/train/*.txt')\n",
    "test = load_files('./lang/test/*.txt')\n",
    "\n",
    "with open(\"./lang/freq.json\", \"w\", encoding=\"utf-8\") as fp:\n",
    "    json.dump([data, test], fp)"
   ]
  },
  {
   "cell_type": "code",
   "execution_count": 5,
   "metadata": {},
   "outputs": [
    {
     "name": "stderr",
     "output_type": "stream",
     "text": [
      "C:\\Users\\student\\Anaconda3\\lib\\site-packages\\sklearn\\svm\\base.py:193: FutureWarning: The default value of gamma will change from 'auto' to 'scale' in version 0.22 to account better for unscaled features. Set gamma explicitly to 'auto' or 'scale' to avoid this warning.\n",
      "  \"avoid this warning.\", FutureWarning)\n"
     ]
    },
    {
     "data": {
      "text/plain": [
       "array(['en', 'en', 'fr', 'fr', 'en', 'id', 'tl', 'tl'], dtype='<U2')"
      ]
     },
     "execution_count": 5,
     "metadata": {},
     "output_type": "execute_result"
    }
   ],
   "source": [
    "# 학습하기\n",
    "clf = svm.SVC() # 분류 모형\n",
    "clf.fit(data[\"freqs\"], data[\"labels\"]) # 학습된 결과 clf에 자동 저장(fit 메소드 특징)\n",
    "\n",
    "# 예측하기\n",
    "predict = clf.predict(test[\"freqs\"])\n",
    "predict"
   ]
  },
  {
   "cell_type": "code",
   "execution_count": 6,
   "metadata": {},
   "outputs": [
    {
     "name": "stdout",
     "output_type": "stream",
     "text": [
      "정답률 = 0.875\n",
      "리포트 =\n",
      "              precision    recall  f1-score   support\n",
      "\n",
      "          en       0.67      1.00      0.80         2\n",
      "          fr       1.00      1.00      1.00         2\n",
      "          id       1.00      0.50      0.67         2\n",
      "          tl       1.00      1.00      1.00         2\n",
      "\n",
      "    accuracy                           0.88         8\n",
      "   macro avg       0.92      0.88      0.87         8\n",
      "weighted avg       0.92      0.88      0.87         8\n",
      "\n"
     ]
    }
   ],
   "source": [
    "# 결과 테스트하기\n",
    "ac_score = metrics.accuracy_score(test[\"labels\"], predict)\n",
    "cl_report = metrics.classification_report(test[\"labels\"], predict)\n",
    "print(\"정답률 =\", ac_score)\n",
    "print(\"리포트 =\")\n",
    "print(cl_report)"
   ]
  },
  {
   "cell_type": "code",
   "execution_count": 16,
   "metadata": {},
   "outputs": [
    {
     "data": {
      "text/plain": [
       "SVC(C=1.0, cache_size=200, class_weight=None, coef0=0.0,\n",
       "    decision_function_shape='ovr', degree=3, gamma='auto_deprecated',\n",
       "    kernel='rbf', max_iter=-1, probability=False, random_state=None,\n",
       "    shrinking=True, tol=0.001, verbose=False)"
      ]
     },
     "execution_count": 16,
     "metadata": {},
     "output_type": "execute_result"
    }
   ],
   "source": [
    "# svc모형 옵션 확인하기\n",
    "clf = svm.SVC()\n",
    "clf"
   ]
  },
  {
   "cell_type": "code",
   "execution_count": 15,
   "metadata": {},
   "outputs": [
    {
     "name": "stdout",
     "output_type": "stream",
     "text": [
      "정답률 = 1.0\n",
      "리포트 =\n",
      "              precision    recall  f1-score   support\n",
      "\n",
      "          en       1.00      1.00      1.00         2\n",
      "          fr       1.00      1.00      1.00         2\n",
      "          id       1.00      1.00      1.00         2\n",
      "          tl       1.00      1.00      1.00         2\n",
      "\n",
      "    accuracy                           1.00         8\n",
      "   macro avg       1.00      1.00      1.00         8\n",
      "weighted avg       1.00      1.00      1.00         8\n",
      "\n"
     ]
    }
   ],
   "source": [
    "# svc모형 옵션 조정해서 정답률 향상시키기\n",
    "clf = svm.SVC(gamma=17)\n",
    "clf.fit(data[\"freqs\"], data[\"labels\"])\n",
    "\n",
    "predict = clf.predict(test[\"freqs\"])\n",
    "ac_score = metrics.accuracy_score(test[\"labels\"], predict)\n",
    "cl_report = metrics.classification_report(test[\"labels\"], predict)\n",
    "print(\"정답률 =\", ac_score)\n",
    "print(\"리포트 =\")\n",
    "print(cl_report)"
   ]
  }
 ],
 "metadata": {
  "kernelspec": {
   "display_name": "Python 3",
   "language": "python",
   "name": "python3"
  },
  "language_info": {
   "codemirror_mode": {
    "name": "ipython",
    "version": 3
   },
   "file_extension": ".py",
   "mimetype": "text/x-python",
   "name": "python",
   "nbconvert_exporter": "python",
   "pygments_lexer": "ipython3",
   "version": "3.7.4"
  }
 },
 "nbformat": 4,
 "nbformat_minor": 2
}
