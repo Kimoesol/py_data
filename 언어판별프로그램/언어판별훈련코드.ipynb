{
 "cells": [
  {
   "cell_type": "code",
   "execution_count": 2,
   "metadata": {},
   "outputs": [],
   "source": [
    "from sklearn import svm, metrics\n",
    "import glob, os.path, re, json"
   ]
  },
  {
   "cell_type": "code",
   "execution_count": 20,
   "metadata": {
    "scrolled": true
   },
   "outputs": [],
   "source": [
    "def check_freq(fname):    \n",
    "    \n",
    "    # 파일을 읽어\n",
    "    # 음절 계산\n",
    "    with open(fname, \"r\", encoding=\"utf-8\") as f:\n",
    "        text = f.read()\n",
    "    text = text.lower()\n",
    "    \n",
    "    # 0 ~ 26까지 모두 0으로 세팅한 배열을 만듬\n",
    "    cnt = [0 for n in range(0,26)]\n",
    "    \n",
    "    # 문자를 아스키 코드로 바꾼 이유: 알파벳을 아스키 코드로 바꿔서 a값을 빼주면 위에 만든 배열의 인덱스값이 나옴\n",
    "    code_a = ord(\"a\") # 'a' = 97\n",
    "    code_z = ord(\"z\") # 'z' = 122\n",
    "    \n",
    "    for ch in text:\n",
    "        n = ord(ch) # n - 97\n",
    "        if code_a <= n <= code_z:\n",
    "            cnt[n - code_a] += 1\n",
    "    \n",
    "    # 정규화\n",
    "    total = sum(cnt)\n",
    "    freq = list(map(lambda n: n / total, cnt))\n",
    "    \n",
    "    # 파일명 뽑아내기 (y값 추출하기 언어타입 찾아내는 것임)\n",
    "    name = os.path.basename(fname)\n",
    "    lang = re.match(r'^[a-z]{2,}', name).group()\n",
    "    return freq, lang\n",
    "\n",
    "def load_files(path):\n",
    "    freqs = []\n",
    "    labels = []\n",
    "    file_list = glob.glob(path)\n",
    "    for fname in file_list:\n",
    "        r = check_freq(fname)\n",
    "        freqs.append(r[0]) # [0.2233343]\n",
    "        labels.append(r[1]) # 'en'\n",
    "    return {\"freqs\":freqs, \"labels\":labels}\n",
    "\n",
    "############### main ###############\n",
    "data = load_files('./lang/train/*.txt')\n",
    "test = load_files('./lang/test/*.txt')\n",
    "\n",
    "with open(\"./lang/freq.json\", \"w\", encoding=\"utf-8\") as fp:\n",
    "    json.dump([data, test], fp)"
   ]
  }
 ],
 "metadata": {
  "kernelspec": {
   "display_name": "Python 3",
   "language": "python",
   "name": "python3"
  },
  "language_info": {
   "codemirror_mode": {
    "name": "ipython",
    "version": 3
   },
   "file_extension": ".py",
   "mimetype": "text/x-python",
   "name": "python",
   "nbconvert_exporter": "python",
   "pygments_lexer": "ipython3",
   "version": "3.7.4"
  }
 },
 "nbformat": 4,
 "nbformat_minor": 2
}
